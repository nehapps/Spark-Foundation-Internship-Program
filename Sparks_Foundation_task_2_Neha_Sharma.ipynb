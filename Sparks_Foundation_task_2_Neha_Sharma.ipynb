{
 "cells": [
  {
   "cell_type": "markdown",
   "metadata": {
    "colab_type": "text",
    "id": "view-in-github"
   },
   "source": [
    "<a href=\"https://colab.research.google.com/github/neha702/Sparks-Foundation-tasks/blob/master/Sparks_Foundation_task_2.ipynb\" target=\"_parent\"><img src=\"https://colab.research.google.com/assets/colab-badge.svg\" alt=\"Open In Colab\"/></a>"
   ]
  },
  {
   "cell_type": "markdown",
   "metadata": {
    "colab_type": "text",
    "id": "txedjOqidmVO"
   },
   "source": [
    "**Task 2: To Explore Supervised machine learning**\n",
    "\n",
    "In this regression task we will predict the percentage of marks that a student is expected to score based upon thenumber of hours they studied. This is a simple linear regression task as it involves just two variables.What will be predicted score if a student study for 9.25 hrs in a day?"
   ]
  },
  {
   "cell_type": "markdown",
   "metadata": {
    "colab_type": "text",
    "id": "yrnxrKqueys-"
   },
   "source": [
    "**Importing libraries**"
   ]
  },
  {
   "cell_type": "code",
   "execution_count": 12,
   "metadata": {
    "colab": {},
    "colab_type": "code",
    "id": "ARXwut7Cubga"
   },
   "outputs": [],
   "source": [
    "#importing libraries\n",
    "import numpy as np\n",
    "import matplotlib.pyplot as plt\n",
    "import pandas as pd\n",
    "%matplotlib inline"
   ]
  },
  {
   "cell_type": "markdown",
   "metadata": {
    "colab_type": "text",
    "id": "JYoCebVAdi2i"
   },
   "source": [
    "**Importing and preparing data**"
   ]
  },
  {
   "cell_type": "code",
   "execution_count": 2,
   "metadata": {
    "colab": {
     "base_uri": "https://localhost:8080/",
     "height": 452
    },
    "colab_type": "code",
    "id": "txPkZT7Uwsq-",
    "outputId": "35f734da-ecc7-47ef-d850-6e68078bc268"
   },
   "outputs": [
    {
     "name": "stdout",
     "output_type": "stream",
     "text": [
      "    Hours  Scores\n",
      "0     2.5      21\n",
      "1     5.1      47\n",
      "2     3.2      27\n",
      "3     8.5      75\n",
      "4     3.5      30\n",
      "5     1.5      20\n",
      "6     9.2      88\n",
      "7     5.5      60\n",
      "8     8.3      81\n",
      "9     2.7      25\n",
      "10    7.7      85\n",
      "11    5.9      62\n",
      "12    4.5      41\n",
      "13    3.3      42\n",
      "14    1.1      17\n",
      "15    8.9      95\n",
      "16    2.5      30\n",
      "17    1.9      24\n",
      "18    6.1      67\n",
      "19    7.4      69\n",
      "20    2.7      30\n",
      "21    4.8      54\n",
      "22    3.8      35\n",
      "23    6.9      76\n",
      "24    7.8      86\n"
     ]
    }
   ],
   "source": [
    "#importing dataset\n",
    "link=\"http://bit.ly/w-data\"\n",
    "data=pd.read_csv(link)\n",
    "data.head(10)\n",
    "X=data.iloc[:,:-1].values\n",
    "Y=data.iloc[:,1].values\n",
    "print(data)\n"
   ]
  },
  {
   "cell_type": "markdown",
   "metadata": {
    "colab_type": "text",
    "id": "4bTStfeFhgtn"
   },
   "source": [
    "**Data visualisation**"
   ]
  },
  {
   "cell_type": "code",
   "execution_count": 3,
   "metadata": {
    "colab": {
     "base_uri": "https://localhost:8080/",
     "height": 295
    },
    "colab_type": "code",
    "id": "vXKnJ47zgh6k",
    "outputId": "35bea391-65d1-4ba5-db59-d0f025ba88ce"
   },
   "outputs": [
    {
     "data": {
      "image/png": "[encoded data removed]",
      "text/plain": [
       "<Figure size 432x288 with 1 Axes>"
      ]
     },
     "metadata": {},
     "output_type": "display_data"
    }
   ],
   "source": [
    "plt.scatter(X,Y,marker=\"s\")\n",
    "plt.title('Hours vs percentage')\n",
    "plt.ylabel('Percentage score')\n",
    "plt.xlabel('Hours studied')\n",
    "plt.show()"
   ]
  },
  {
   "cell_type": "markdown",
   "metadata": {
    "colab_type": "text",
    "id": "S2v8NTpr613h"
   },
   "source": [
    "**Splitting into training and test sets**"
   ]
  },
  {
   "cell_type": "code",
   "execution_count": 4,
   "metadata": {
    "colab": {},
    "colab_type": "code",
    "id": "SVDJpTvvpN8_"
   },
   "outputs": [],
   "source": [
    "from sklearn.model_selection import train_test_split\n",
    "X_train,X_test,Y_train,Y_test=train_test_split(X,Y,test_size=0.2,random_state=0)\n"
   ]
  },
  {
   "cell_type": "markdown",
   "metadata": {
    "colab_type": "text",
    "id": "v4V-eVxM9etM"
   },
   "source": [
    "**Fitting a simple linear regressor**"
   ]
  },
  {
   "cell_type": "code",
   "execution_count": 5,
   "metadata": {
    "colab": {
     "base_uri": "https://localhost:8080/",
     "height": 33
    },
    "colab_type": "code",
    "id": "cyK01z147zfz",
    "outputId": "aa1d9ede-cefd-4759-aeda-49eb86ab149e"
   },
   "outputs": [
    {
     "data": {
      "text/plain": [
       "LinearRegression(copy_X=True, fit_intercept=True, n_jobs=1, normalize=False)"
      ]
     },
     "execution_count": 5,
     "metadata": {},
     "output_type": "execute_result"
    }
   ],
   "source": [
    "from sklearn.linear_model import LinearRegression\n",
    "regressor=LinearRegression()\n",
    "regressor.fit(X_train,Y_train)"
   ]
  },
  {
   "cell_type": "markdown",
   "metadata": {
    "colab_type": "text",
    "id": "LVb6zctp-Cgk"
   },
   "source": [
    "**Predicting the test set results**"
   ]
  },
  {
   "cell_type": "code",
   "execution_count": 6,
   "metadata": {
    "colab": {},
    "colab_type": "code",
    "id": "gQ-y-ISb97kO"
   },
   "outputs": [],
   "source": [
    "Y_pred=regressor.predict(X_test)"
   ]
  },
  {
   "cell_type": "markdown",
   "metadata": {
    "colab_type": "text",
    "id": "xRRYoJ9TyiGw"
   },
   "source": [
    "**Comparing actual and predicted data**"
   ]
  },
  {
   "cell_type": "code",
   "execution_count": 7,
   "metadata": {
    "colab": {
     "base_uri": "https://localhost:8080/",
     "height": 117
    },
    "colab_type": "code",
    "id": "_UpCl_zkynQ4",
    "outputId": "034a6bd8-2609-4f2f-db37-9f3d00e18c75"
   },
   "outputs": [
    {
     "name": "stdout",
     "output_type": "stream",
     "text": [
      "   Actual  Predicted\n",
      "0      20  16.884145\n",
      "1      27  33.732261\n",
      "2      69  75.357018\n",
      "3      30  26.794801\n",
      "4      62  60.491033\n"
     ]
    }
   ],
   "source": [
    "data= pd.DataFrame({'Actual': Y_test.flatten(), 'Predicted': Y_pred.flatten()})  \n",
    "print(data)"
   ]
  },
  {
   "cell_type": "markdown",
   "metadata": {
    "colab_type": "text",
    "id": "1jg8YFls_GSX"
   },
   "source": [
    "**Predicting the score of a student who study for 9.25 hours in a day**"
   ]
  },
  {
   "cell_type": "code",
   "execution_count": 8,
   "metadata": {
    "colab": {
     "base_uri": "https://localhost:8080/",
     "height": 50
    },
    "colab_type": "code",
    "id": "mSgmjF1C-iVI",
    "outputId": "041b66d5-45c5-486b-a34f-216ee5218f6c"
   },
   "outputs": [
    {
     "name": "stdout",
     "output_type": "stream",
     "text": [
      "No. of hours studied=9.25\n",
      "Score=93.69173248737538\n"
     ]
    }
   ],
   "source": [
    "hour=9.25\n",
    "score_pred=regressor.predict([[hour]])\n",
    "print(\"No. of hours studied={}\".format(hour))\n",
    "print(\"Score={}\".format(score_pred[0]))"
   ]
  },
  {
   "cell_type": "markdown",
   "metadata": {
    "colab_type": "text",
    "id": "R9OD76hDpSwi"
   },
   "source": [
    "**Visualising the train and test set results**"
   ]
  },
  {
   "cell_type": "code",
   "execution_count": 9,
   "metadata": {
    "colab": {
     "base_uri": "https://localhost:8080/",
     "height": 573
    },
    "colab_type": "code",
    "id": "cbsQM4XmAJYE",
    "outputId": "d03272e4-7f7d-47e8-8ba3-c2158bf9ccbb"
   },
   "outputs": [
    {
     "data": {
      "image/png": "[encoded data removed]",
      "text/plain": [
       "<Figure size 432x288 with 1 Axes>"
      ]
     },
     "metadata": {},
     "output_type": "display_data"
    },
    {
     "data": {
      "image/png": "[encoded data removed]",
      "text/plain": [
       "<Figure size 432x288 with 1 Axes>"
      ]
     },
     "metadata": {},
     "output_type": "display_data"
    }
   ],
   "source": [
    "#Train set results\n",
    "plt.subplot(1,2,1)\n",
    "Y_train_pred=regressor.predict(X_train)\n",
    "plt.scatter(X_train,Y_train,marker='s',color='blue')\n",
    "plt.plot(X_train,Y_train_pred,color='red')\n",
    "plt.title('Hours vs percentage (for training set)')\n",
    "plt.ylabel('Percentage score')\n",
    "plt.xlabel('Hours studied')\n",
    "plt.show()\n",
    "#Test set results\n",
    "plt.subplot(1,2,2)\n",
    "Y_test_pred=regressor.predict(X_test)\n",
    "plt.scatter(X_test,Y_test,marker='s',color='blue')\n",
    "plt.plot(X_test,Y_test_pred,color='red')\n",
    "plt.title('Hours vs percentage (for test set)')\n",
    "plt.ylabel('Percentage score')\n",
    "plt.xlabel('Hours studied')\n",
    "plt.show()"
   ]
  },
  {
   "cell_type": "markdown",
   "metadata": {
    "colab_type": "text",
    "id": "yiF1p9KnuhHc"
   },
   "source": [
    "**Model evaluation**\n",
    "\n",
    "Now, we need to evaluate how well the algorithm performed on the dataset.Here I will be finding the mean absolute error and root mean square error for test set.And will be also evaluating the model's accuracy."
   ]
  },
  {
   "cell_type": "code",
   "execution_count": 10,
   "metadata": {
    "colab": {
     "base_uri": "https://localhost:8080/",
     "height": 67
    },
    "colab_type": "code",
    "id": "FsWVY9hytX-q",
    "outputId": "661c3609-d1af-484a-b039-8f00ed1aa5fb",
    "scrolled": true
   },
   "outputs": [
    {
     "name": "stdout",
     "output_type": "stream",
     "text": [
      "Mean Absolute Error: 4.183859899002975\n",
      "Root mean square  Error: 4.6474476121003665\n",
      "Accuracy: 0.9454906892105356\n"
     ]
    }
   ],
   "source": [
    "#MAE\n",
    "from sklearn import metrics  \n",
    "from sklearn.metrics import r2_score\n",
    "print('Mean Absolute Error:', metrics.mean_absolute_error(Y_test, Y_pred)) \n",
    "#RMSE\n",
    "print('Root mean square  Error:', np.sqrt(metrics.mean_squared_error(Y_test, Y_pred))) \n",
    "print('Accuracy:', r2_score(Y_test, Y_pred)) "
   ]
  },
  {
   "cell_type": "markdown",
   "metadata": {
    "colab_type": "text",
    "id": "3oPsEYqsmZxb"
   },
   "source": []
  },
  {
   "cell_type": "markdown",
   "metadata": {
    "colab_type": "text",
    "id": "6lP_50YSw34c"
   },
   "source": [
    "**CONCLUSION :** In this task,I have fitted a simple linear regressor to the training set of the dataset ,predicted and visualised the  test set results. And I have found out that if a student study for 9.25 hrs a day,the score will be 93.69173249.And on model evaluation ,I got mean absolute error:4.183859899002982 and root mean square error of 4.647447612100373.Further , I got an accuracy of 0.94 which indicates that the it is a good model."
   ]
  }
 ],
 "metadata": {
  "colab": {
   "authorship_tag": "ABX9TyPYXf0WxNQYb0ZT8W52RcOj",
   "collapsed_sections": [],
   "include_colab_link": true,
   "name": "Sparks Foundation task 2.ipynb",
   "provenance": []
  },
  "kernelspec": {
   "display_name": "Python 3",
   "language": "python",
   "name": "python3"
  },
  "language_info": {
   "codemirror_mode": {
    "name": "ipython",
    "version": 3
   },
   "file_extension": ".py",
   "mimetype": "text/x-python",
   "name": "python",
   "nbconvert_exporter": "python",
   "pygments_lexer": "ipython3",
   "version": "3.6.5"
  }
 },
 "nbformat": 4,
 "nbformat_minor": 1
}
